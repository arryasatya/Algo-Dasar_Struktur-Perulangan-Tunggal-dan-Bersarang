{
 "cells": [
  {
   "cell_type": "markdown",
   "id": "dfd31820",
   "metadata": {},
   "source": [
    "### Me-looping Bilangan Pangkat 3, Mulai dari 1 s/d 100"
   ]
  },
  {
   "cell_type": "code",
   "execution_count": 5,
   "id": "f6435805",
   "metadata": {
    "scrolled": true
   },
   "outputs": [
    {
     "name": "stdout",
     "output_type": "stream",
     "text": [
      "1^3 =  1\n",
      "2^3 =  8\n",
      "3^3 =  27\n",
      "4^3 =  64\n",
      "5^3 =  125\n",
      "6^3 =  216\n",
      "7^3 =  343\n",
      "8^3 =  512\n",
      "9^3 =  729\n",
      "10^3 =  1000\n",
      "11^3 =  1331\n",
      "12^3 =  1728\n",
      "13^3 =  2197\n",
      "14^3 =  2744\n",
      "15^3 =  3375\n",
      "16^3 =  4096\n",
      "17^3 =  4913\n",
      "18^3 =  5832\n",
      "19^3 =  6859\n",
      "20^3 =  8000\n",
      "21^3 =  9261\n",
      "22^3 =  10648\n",
      "23^3 =  12167\n",
      "24^3 =  13824\n",
      "25^3 =  15625\n",
      "26^3 =  17576\n",
      "27^3 =  19683\n",
      "28^3 =  21952\n",
      "29^3 =  24389\n",
      "30^3 =  27000\n",
      "31^3 =  29791\n",
      "32^3 =  32768\n",
      "33^3 =  35937\n",
      "34^3 =  39304\n",
      "35^3 =  42875\n",
      "36^3 =  46656\n",
      "37^3 =  50653\n",
      "38^3 =  54872\n",
      "39^3 =  59319\n",
      "40^3 =  64000\n",
      "41^3 =  68921\n",
      "42^3 =  74088\n",
      "43^3 =  79507\n",
      "44^3 =  85184\n",
      "45^3 =  91125\n",
      "46^3 =  97336\n",
      "47^3 =  103823\n",
      "48^3 =  110592\n",
      "49^3 =  117649\n",
      "50^3 =  125000\n",
      "51^3 =  132651\n",
      "52^3 =  140608\n",
      "53^3 =  148877\n",
      "54^3 =  157464\n",
      "55^3 =  166375\n",
      "56^3 =  175616\n",
      "57^3 =  185193\n",
      "58^3 =  195112\n",
      "59^3 =  205379\n",
      "60^3 =  216000\n",
      "61^3 =  226981\n",
      "62^3 =  238328\n",
      "63^3 =  250047\n",
      "64^3 =  262144\n",
      "65^3 =  274625\n",
      "66^3 =  287496\n",
      "67^3 =  300763\n",
      "68^3 =  314432\n",
      "69^3 =  328509\n",
      "70^3 =  343000\n",
      "71^3 =  357911\n",
      "72^3 =  373248\n",
      "73^3 =  389017\n",
      "74^3 =  405224\n",
      "75^3 =  421875\n",
      "76^3 =  438976\n",
      "77^3 =  456533\n",
      "78^3 =  474552\n",
      "79^3 =  493039\n",
      "80^3 =  512000\n",
      "81^3 =  531441\n",
      "82^3 =  551368\n",
      "83^3 =  571787\n",
      "84^3 =  592704\n",
      "85^3 =  614125\n",
      "86^3 =  636056\n",
      "87^3 =  658503\n",
      "88^3 =  681472\n",
      "89^3 =  704969\n",
      "90^3 =  729000\n",
      "91^3 =  753571\n",
      "92^3 =  778688\n",
      "93^3 =  804357\n",
      "94^3 =  830584\n",
      "95^3 =  857375\n",
      "96^3 =  884736\n",
      "97^3 =  912673\n",
      "98^3 =  941192\n",
      "99^3 =  970299\n",
      "100^3 =  1000000\n"
     ]
    }
   ],
   "source": [
    "for angka in range(1,101,1):\n",
    "    print(f\"{angka}^3 = \", angka**3)"
   ]
  },
  {
   "cell_type": "markdown",
   "id": "04bcd8d8",
   "metadata": {},
   "source": [
    "### Me-looping Akar Bilangan (square root), Mulai dari 1 s/d 50"
   ]
  },
  {
   "cell_type": "code",
   "execution_count": 2,
   "id": "e8ab0833",
   "metadata": {},
   "outputs": [
    {
     "name": "stdout",
     "output_type": "stream",
     "text": [
      "Masukkan batas bawah: 1\n"
     ]
    }
   ],
   "source": [
    "bb = int(input(\"Masukkan batas bawah: \"))"
   ]
  },
  {
   "cell_type": "code",
   "execution_count": 3,
   "id": "02d26ff8",
   "metadata": {},
   "outputs": [
    {
     "name": "stdout",
     "output_type": "stream",
     "text": [
      "Masukkan batas atas: 50\n"
     ]
    }
   ],
   "source": [
    "ba = int(input(\"Masukkan batas atas: \"))"
   ]
  },
  {
   "cell_type": "code",
   "execution_count": 4,
   "id": "975e3b91",
   "metadata": {},
   "outputs": [
    {
     "name": "stdout",
     "output_type": "stream",
     "text": [
      "Masukkan step: 1\n"
     ]
    }
   ],
   "source": [
    "step = int(input(\"Masukkan step: \"))"
   ]
  },
  {
   "cell_type": "code",
   "execution_count": 9,
   "id": "6c43fc42",
   "metadata": {
    "scrolled": true
   },
   "outputs": [
    {
     "name": "stdout",
     "output_type": "stream",
     "text": [
      "akar1=  1.0\n",
      "akar2=  1.4142135623730951\n",
      "akar3=  1.7320508075688772\n",
      "akar4=  2.0\n",
      "akar5=  2.23606797749979\n",
      "akar6=  2.449489742783178\n",
      "akar7=  2.6457513110645907\n",
      "akar8=  2.8284271247461903\n",
      "akar9=  3.0\n",
      "akar10=  3.1622776601683795\n",
      "akar11=  3.3166247903554\n",
      "akar12=  3.4641016151377544\n",
      "akar13=  3.605551275463989\n",
      "akar14=  3.7416573867739413\n",
      "akar15=  3.872983346207417\n",
      "akar16=  4.0\n",
      "akar17=  4.123105625617661\n",
      "akar18=  4.242640687119285\n",
      "akar19=  4.358898943540674\n",
      "akar20=  4.47213595499958\n",
      "akar21=  4.58257569495584\n",
      "akar22=  4.69041575982343\n",
      "akar23=  4.795831523312719\n",
      "akar24=  4.898979485566356\n",
      "akar25=  5.0\n",
      "akar26=  5.0990195135927845\n",
      "akar27=  5.196152422706632\n",
      "akar28=  5.291502622129181\n",
      "akar29=  5.385164807134504\n",
      "akar30=  5.477225575051661\n",
      "akar31=  5.5677643628300215\n",
      "akar32=  5.656854249492381\n",
      "akar33=  5.744562646538029\n",
      "akar34=  5.830951894845301\n",
      "akar35=  5.916079783099616\n",
      "akar36=  6.0\n",
      "akar37=  6.082762530298219\n",
      "akar38=  6.164414002968976\n",
      "akar39=  6.244997998398398\n",
      "akar40=  6.324555320336759\n",
      "akar41=  6.4031242374328485\n",
      "akar42=  6.48074069840786\n",
      "akar43=  6.557438524302\n",
      "akar44=  6.6332495807108\n",
      "akar45=  6.708203932499369\n",
      "akar46=  6.782329983125268\n",
      "akar47=  6.855654600401044\n",
      "akar48=  6.928203230275509\n",
      "akar49=  7.0\n",
      "akar50=  7.0710678118654755\n"
     ]
    }
   ],
   "source": [
    "bb=1\n",
    "while bb <= 50:\n",
    "    print(F\"akar{bb}= \", bb**0.5)\n",
    "    bb += 1"
   ]
  },
  {
   "cell_type": "markdown",
   "id": "bd23cbc9",
   "metadata": {},
   "source": [
    "### Me-looping Faktorial Bilangan, Mulai dari 1-20"
   ]
  },
  {
   "cell_type": "code",
   "execution_count": 11,
   "id": "1e80a291",
   "metadata": {
    "scrolled": true
   },
   "outputs": [
    {
     "name": "stdout",
     "output_type": "stream",
     "text": [
      "1! =  1\n",
      "2! =  2\n",
      "3! =  6\n",
      "4! =  24\n",
      "5! =  120\n",
      "6! =  720\n",
      "7! =  5040\n",
      "8! =  40320\n",
      "9! =  362880\n",
      "10! =  3628800\n",
      "11! =  39916800\n",
      "12! =  479001600\n",
      "13! =  6227020800\n",
      "14! =  87178291200\n",
      "15! =  1307674368000\n",
      "16! =  20922789888000\n",
      "17! =  355687428096000\n",
      "18! =  6402373705728000\n",
      "19! =  121645100408832000\n",
      "20! =  2432902008176640000\n"
     ]
    }
   ],
   "source": [
    "import math \n",
    "bb = 1\n",
    "while True:\n",
    "    print(f\"{bb}! =  {math.factorial(bb)}\")\n",
    "    if bb == 20:\n",
    "        break\n",
    "    bb += 1"
   ]
  },
  {
   "cell_type": "markdown",
   "id": "8403f10e",
   "metadata": {},
   "source": [
    "### Menampilkan Bilangan Ganjil selain Kelipatan 3"
   ]
  },
  {
   "cell_type": "code",
   "execution_count": 11,
   "id": "2a9ef1a8",
   "metadata": {},
   "outputs": [
    {
     "name": "stdout",
     "output_type": "stream",
     "text": [
      "Masukkan batas atas: 15\n"
     ]
    }
   ],
   "source": [
    "nomor = int(input(\"Masukkan batas atas: \"))"
   ]
  },
  {
   "cell_type": "code",
   "execution_count": 12,
   "id": "fb0f9279",
   "metadata": {},
   "outputs": [
    {
     "name": "stdout",
     "output_type": "stream",
     "text": [
      "1\n",
      "5\n",
      "7\n",
      "11\n",
      "13\n",
      "Selesai\n"
     ]
    }
   ],
   "source": [
    "for nomor in range (0,nomor):\n",
    "    if nomor %2==0 or nomor%3==0:\n",
    "        continue\n",
    "    print(nomor)\n",
    "    \n",
    "print(\"Selesai\")"
   ]
  },
  {
   "cell_type": "markdown",
   "id": "3ae8ac2e",
   "metadata": {},
   "source": [
    "#### Menampilkan bilangan ganjil selain kelipatan 7 dan 11, namun bilangan yang ditampilkan dibatasi <100"
   ]
  },
  {
   "cell_type": "code",
   "execution_count": 27,
   "id": "de0a3a42",
   "metadata": {},
   "outputs": [
    {
     "name": "stdout",
     "output_type": "stream",
     "text": [
      "Masukkan batas atas: 250\n"
     ]
    }
   ],
   "source": [
    "bilangan = int(input(\"Masukkan batas atas: \"))"
   ]
  },
  {
   "cell_type": "code",
   "execution_count": 28,
   "id": "b7c73087",
   "metadata": {},
   "outputs": [
    {
     "name": "stdout",
     "output_type": "stream",
     "text": [
      "1\n",
      "3\n",
      "5\n",
      "9\n",
      "13\n",
      "15\n",
      "17\n",
      "19\n",
      "23\n",
      "25\n",
      "27\n",
      "29\n",
      "31\n",
      "37\n",
      "39\n",
      "41\n",
      "43\n",
      "45\n",
      "47\n",
      "51\n",
      "53\n",
      "57\n",
      "59\n",
      "61\n",
      "65\n",
      "67\n",
      "69\n",
      "71\n",
      "73\n",
      "75\n",
      "79\n",
      "81\n",
      "83\n",
      "85\n",
      "87\n",
      "89\n",
      "93\n",
      "95\n",
      "97\n",
      "Selesai\n"
     ]
    }
   ],
   "source": [
    "for bilangan in range (0,bilangan):\n",
    "    if bilangan %2==0 or bilangan %7==0 or bilangan %11==0:\n",
    "        continue\n",
    "    if bilangan > 100:\n",
    "            break\n",
    "    print(bilangan)\n",
    "    \n",
    "print(\"Selesai\")"
   ]
  },
  {
   "cell_type": "markdown",
   "id": "78269eeb",
   "metadata": {},
   "source": [
    "### Karakter Bulan"
   ]
  },
  {
   "cell_type": "code",
   "execution_count": 6,
   "id": "3f0329fc",
   "metadata": {
    "scrolled": true
   },
   "outputs": [
    {
     "name": "stdout",
     "output_type": "stream",
     "text": [
      "Masukkan bulan pilihan kamuu :maret\n",
      "Bulan tersebut termasuk Q1\n"
     ]
    }
   ],
   "source": [
    "from goto import with_goto\n",
    "\n",
    "\n",
    "def input_bulan():\n",
    "    bulan = str(input(\"Masukkan bulan pilihan kamuu :\"))\n",
    "    \n",
    "    if bulan == 'januari' or bulan =='februari' or bulan =='maret' :\n",
    "        print(\"Bulan tersebut termasuk Q1\")\n",
    "    elif bulan == 'april' or bulan =='mei' or bulan =='juni' :\n",
    "        print(\"Bulan tersebut termasuk Q2\")\n",
    "    elif bulan == 'juli' or bulan =='agustus' or bulan =='september' :\n",
    "        print(\"Bulan tersebut termasuk Q3\")\n",
    "    elif bulan == 'oktober' or bulan =='november' or bulan =='desember' :\n",
    "        print(\"Bulan tersebut termasuk Q4\")\n",
    "    else :\n",
    "        goto .quit\n",
    "        \n",
    "        \n",
    "        label .quit\n",
    "        print(\"Selesai/n\")\n",
    "        \n",
    "input_bulan()"
   ]
  },
  {
   "cell_type": "markdown",
   "id": "78d7549b",
   "metadata": {},
   "source": [
    "### Pohon Bintang"
   ]
  },
  {
   "cell_type": "code",
   "execution_count": 17,
   "id": "2b4a21c5",
   "metadata": {},
   "outputs": [
    {
     "name": "stdout",
     "output_type": "stream",
     "text": [
      "masukkan tinggi : 5\n",
      "    * \n",
      "   * * \n",
      "  * * * \n",
      " * * * * \n",
      "* * * * * \n"
     ]
    }
   ],
   "source": [
    "tinggi = eval(input(\"masukkan tinggi : \"))\n",
    "for i in range (0,tinggi):\n",
    "    for j in range (0, tinggi-i-1):\n",
    "        print(end= \" \")\n",
    "    for j in range (0, i+1):\n",
    "        print(\"*\", end=\" \" )\n",
    "    print()"
   ]
  }
 ],
 "metadata": {
  "kernelspec": {
   "display_name": "Python 3 (ipykernel)",
   "language": "python",
   "name": "python3"
  },
  "language_info": {
   "codemirror_mode": {
    "name": "ipython",
    "version": 3
   },
   "file_extension": ".py",
   "mimetype": "text/x-python",
   "name": "python",
   "nbconvert_exporter": "python",
   "pygments_lexer": "ipython3",
   "version": "3.9.12"
  }
 },
 "nbformat": 4,
 "nbformat_minor": 5
}
